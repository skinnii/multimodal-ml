{
  "nbformat": 4,
  "nbformat_minor": 0,
  "metadata": {
    "colab": {
      "provenance": [],
      "authorship_tag": "ABX9TyMTJ9bnQMcRmLHCDGGFzNQq",
      "include_colab_link": true
    },
    "kernelspec": {
      "name": "python3",
      "display_name": "Python 3"
    },
    "language_info": {
      "name": "python"
    }
  },
  "cells": [
    {
      "cell_type": "markdown",
      "metadata": {
        "id": "view-in-github",
        "colab_type": "text"
      },
      "source": [
        "<a href=\"https://colab.research.google.com/github/skinnii/multimodal-ml/blob/main/individual-coding-assignment/individual_coding_assignment_1.ipynb\" target=\"_parent\"><img src=\"https://colab.research.google.com/assets/colab-badge.svg\" alt=\"Open In Colab\"/></a>"
      ]
    },
    {
      "cell_type": "markdown",
      "source": [
        "# 1. Python Fundamentals"
      ],
      "metadata": {
        "id": "bG_b6cPS1aSC"
      }
    },
    {
      "cell_type": "code",
      "source": [
        "import numpy as np\n",
        "import pandas as pd\n",
        "import matplotlib.pyplot as plt"
      ],
      "metadata": {
        "id": "qG3OEqFb_YmX"
      },
      "execution_count": 56,
      "outputs": []
    },
    {
      "cell_type": "code",
      "source": [
        "url_author_info = 'https://raw.githubusercontent.com/skinnii/multimodal-ml/main/individual-coding-assignment-1/authorInfo.csv'\n",
        "url_article_info = 'https://raw.githubusercontent.com/skinnii/multimodal-ml/main/individual-coding-assignment-1/articleInfo.csv'\n",
        "\n",
        "author_info = pd.read_csv(url_author_info)\n",
        "article_info = pd.read_csv(url_article_info)"
      ],
      "metadata": {
        "id": "QDgRoZ8z-Edu"
      },
      "execution_count": 57,
      "outputs": []
    },
    {
      "cell_type": "code",
      "source": [
        "df = pd.merge(author_info, article_info, on='Article No.', how='outer')\n",
        "\n",
        "df.isna().sum()\n",
        "df = df.fillna(0)"
      ],
      "metadata": {
        "id": "N6N6vxcn_4Nw"
      },
      "execution_count": 58,
      "outputs": []
    },
    {
      "cell_type": "markdown",
      "source": [
        "## 1.1: Yearly Publications"
      ],
      "metadata": {
        "id": "HLyBAU-lBplq"
      }
    },
    {
      "cell_type": "code",
      "source": [
        "publications_per_year = df.groupby('Year').agg({'Article No.':'nunique'})\n",
        "publications_per_year = publications_per_year.rename(columns={'Article No.':'Publications'})\n",
        "publications_per_year"
      ],
      "metadata": {
        "colab": {
          "base_uri": "https://localhost:8080/",
          "height": 269
        },
        "id": "HNM2dx6vCmfb",
        "outputId": "983bd8cc-ea0c-4c53-db39-6642605657ab"
      },
      "execution_count": 63,
      "outputs": [
        {
          "output_type": "execute_result",
          "data": {
            "text/plain": [
              "      Publications\n",
              "Year              \n",
              "2017             7\n",
              "2018            10\n",
              "2019            12\n",
              "2020            36\n",
              "2021            53\n",
              "2022            46"
            ],
            "text/html": [
              "\n",
              "  <div id=\"df-96424824-d3b7-43c3-b738-a694c3d1aa2d\">\n",
              "    <div class=\"colab-df-container\">\n",
              "      <div>\n",
              "<style scoped>\n",
              "    .dataframe tbody tr th:only-of-type {\n",
              "        vertical-align: middle;\n",
              "    }\n",
              "\n",
              "    .dataframe tbody tr th {\n",
              "        vertical-align: top;\n",
              "    }\n",
              "\n",
              "    .dataframe thead th {\n",
              "        text-align: right;\n",
              "    }\n",
              "</style>\n",
              "<table border=\"1\" class=\"dataframe\">\n",
              "  <thead>\n",
              "    <tr style=\"text-align: right;\">\n",
              "      <th></th>\n",
              "      <th>Publications</th>\n",
              "    </tr>\n",
              "    <tr>\n",
              "      <th>Year</th>\n",
              "      <th></th>\n",
              "    </tr>\n",
              "  </thead>\n",
              "  <tbody>\n",
              "    <tr>\n",
              "      <th>2017</th>\n",
              "      <td>7</td>\n",
              "    </tr>\n",
              "    <tr>\n",
              "      <th>2018</th>\n",
              "      <td>10</td>\n",
              "    </tr>\n",
              "    <tr>\n",
              "      <th>2019</th>\n",
              "      <td>12</td>\n",
              "    </tr>\n",
              "    <tr>\n",
              "      <th>2020</th>\n",
              "      <td>36</td>\n",
              "    </tr>\n",
              "    <tr>\n",
              "      <th>2021</th>\n",
              "      <td>53</td>\n",
              "    </tr>\n",
              "    <tr>\n",
              "      <th>2022</th>\n",
              "      <td>46</td>\n",
              "    </tr>\n",
              "  </tbody>\n",
              "</table>\n",
              "</div>\n",
              "      <button class=\"colab-df-convert\" onclick=\"convertToInteractive('df-96424824-d3b7-43c3-b738-a694c3d1aa2d')\"\n",
              "              title=\"Convert this dataframe to an interactive table.\"\n",
              "              style=\"display:none;\">\n",
              "        \n",
              "  <svg xmlns=\"http://www.w3.org/2000/svg\" height=\"24px\"viewBox=\"0 0 24 24\"\n",
              "       width=\"24px\">\n",
              "    <path d=\"M0 0h24v24H0V0z\" fill=\"none\"/>\n",
              "    <path d=\"M18.56 5.44l.94 2.06.94-2.06 2.06-.94-2.06-.94-.94-2.06-.94 2.06-2.06.94zm-11 1L8.5 8.5l.94-2.06 2.06-.94-2.06-.94L8.5 2.5l-.94 2.06-2.06.94zm10 10l.94 2.06.94-2.06 2.06-.94-2.06-.94-.94-2.06-.94 2.06-2.06.94z\"/><path d=\"M17.41 7.96l-1.37-1.37c-.4-.4-.92-.59-1.43-.59-.52 0-1.04.2-1.43.59L10.3 9.45l-7.72 7.72c-.78.78-.78 2.05 0 2.83L4 21.41c.39.39.9.59 1.41.59.51 0 1.02-.2 1.41-.59l7.78-7.78 2.81-2.81c.8-.78.8-2.07 0-2.86zM5.41 20L4 18.59l7.72-7.72 1.47 1.35L5.41 20z\"/>\n",
              "  </svg>\n",
              "      </button>\n",
              "      \n",
              "  <style>\n",
              "    .colab-df-container {\n",
              "      display:flex;\n",
              "      flex-wrap:wrap;\n",
              "      gap: 12px;\n",
              "    }\n",
              "\n",
              "    .colab-df-convert {\n",
              "      background-color: #E8F0FE;\n",
              "      border: none;\n",
              "      border-radius: 50%;\n",
              "      cursor: pointer;\n",
              "      display: none;\n",
              "      fill: #1967D2;\n",
              "      height: 32px;\n",
              "      padding: 0 0 0 0;\n",
              "      width: 32px;\n",
              "    }\n",
              "\n",
              "    .colab-df-convert:hover {\n",
              "      background-color: #E2EBFA;\n",
              "      box-shadow: 0px 1px 2px rgba(60, 64, 67, 0.3), 0px 1px 3px 1px rgba(60, 64, 67, 0.15);\n",
              "      fill: #174EA6;\n",
              "    }\n",
              "\n",
              "    [theme=dark] .colab-df-convert {\n",
              "      background-color: #3B4455;\n",
              "      fill: #D2E3FC;\n",
              "    }\n",
              "\n",
              "    [theme=dark] .colab-df-convert:hover {\n",
              "      background-color: #434B5C;\n",
              "      box-shadow: 0px 1px 3px 1px rgba(0, 0, 0, 0.15);\n",
              "      filter: drop-shadow(0px 1px 2px rgba(0, 0, 0, 0.3));\n",
              "      fill: #FFFFFF;\n",
              "    }\n",
              "  </style>\n",
              "\n",
              "      <script>\n",
              "        const buttonEl =\n",
              "          document.querySelector('#df-96424824-d3b7-43c3-b738-a694c3d1aa2d button.colab-df-convert');\n",
              "        buttonEl.style.display =\n",
              "          google.colab.kernel.accessAllowed ? 'block' : 'none';\n",
              "\n",
              "        async function convertToInteractive(key) {\n",
              "          const element = document.querySelector('#df-96424824-d3b7-43c3-b738-a694c3d1aa2d');\n",
              "          const dataTable =\n",
              "            await google.colab.kernel.invokeFunction('convertToInteractive',\n",
              "                                                     [key], {});\n",
              "          if (!dataTable) return;\n",
              "\n",
              "          const docLinkHtml = 'Like what you see? Visit the ' +\n",
              "            '<a target=\"_blank\" href=https://colab.research.google.com/notebooks/data_table.ipynb>data table notebook</a>'\n",
              "            + ' to learn more about interactive tables.';\n",
              "          element.innerHTML = '';\n",
              "          dataTable['output_type'] = 'display_data';\n",
              "          await google.colab.output.renderOutput(dataTable, element);\n",
              "          const docLink = document.createElement('div');\n",
              "          docLink.innerHTML = docLinkHtml;\n",
              "          element.appendChild(docLink);\n",
              "        }\n",
              "      </script>\n",
              "    </div>\n",
              "  </div>\n",
              "  "
            ]
          },
          "metadata": {},
          "execution_count": 63
        }
      ]
    },
    {
      "cell_type": "code",
      "source": [
        "plt.plot(publications_per_year['Publications'])\n",
        "plt.title('Yearly Publications')\n",
        "plt.xlabel('Year')\n",
        "plt.ylabel('Number of Articles Published')\n",
        "plt.show()"
      ],
      "metadata": {
        "colab": {
          "base_uri": "https://localhost:8080/",
          "height": 295
        },
        "id": "HTc4USK7QGRi",
        "outputId": "0a48f8b1-ece8-40e6-ef63-737988c7389c"
      },
      "execution_count": 64,
      "outputs": [
        {
          "output_type": "display_data",
          "data": {
            "text/plain": [
              "<Figure size 432x288 with 1 Axes>"
            ],
            "image/png": "[encoded data removed]"
          },
          "metadata": {
            "needs_background": "light"
          }
        }
      ]
    },
    {
      "cell_type": "markdown",
      "source": [
        "## 1.2: Yearly citations"
      ],
      "metadata": {
        "id": "LTbB2fM9B3eP"
      }
    },
    {
      "cell_type": "code",
      "source": [
        "citations_per_year = df.groupby(['Year', 'Article No.']).agg({'Citation':'sum', 'Article No.':'count'})\n",
        "citations_per_year['Citation'] = citations_per_year['Citation'] / citations_per_year['Article No.'] \n",
        "citations_per_year = citations_per_year.groupby(level='Year').agg({'Citation':'sum'})"
      ],
      "metadata": {
        "id": "wDrJLMwgVJK0"
      },
      "execution_count": 104,
      "outputs": []
    },
    {
      "cell_type": "code",
      "source": [
        "plt.plot(citations_per_year['Citation'])\n",
        "plt.title('Yearly Citations')\n",
        "plt.xlabel('Year')\n",
        "plt.ylabel('Number of Citations')\n",
        "plt.show()"
      ],
      "metadata": {
        "colab": {
          "base_uri": "https://localhost:8080/",
          "height": 295
        },
        "id": "fPlVbbWqeLdC",
        "outputId": "cdf1ef83-e8cb-4587-edd5-46b1bfd36c01"
      },
      "execution_count": 103,
      "outputs": [
        {
          "output_type": "display_data",
          "data": {
            "text/plain": [
              "<Figure size 432x288 with 1 Axes>"
            ],
            "image/png": "[encoded data removed]"
          },
          "metadata": {
            "needs_background": "light"
          }
        }
      ]
    },
    {
      "cell_type": "markdown",
      "source": [
        "## 1.3: Number of Publications Across Countries"
      ],
      "metadata": {
        "id": "KkI8ms-oCCSn"
      }
    },
    {
      "cell_type": "code",
      "source": [
        "!pip install pygal\n",
        "!pip install pygal_maps_world"
      ],
      "metadata": {
        "colab": {
          "base_uri": "https://localhost:8080/"
        },
        "id": "1kcmc4j0fl-W",
        "outputId": "75746094-b7c9-4a73-c63d-66779253d685"
      },
      "execution_count": 105,
      "outputs": [
        {
          "output_type": "stream",
          "name": "stdout",
          "text": [
            "Looking in indexes: https://pypi.org/simple, https://us-python.pkg.dev/colab-wheels/public/simple/\n",
            "Collecting pygal\n",
            "  Downloading pygal-3.0.0-py2.py3-none-any.whl (129 kB)\n",
            "\u001b[2K     \u001b[90m━━━━━━━━━━━━━━━━━━━━━━━━━━━━━━━━━━━━━━━\u001b[0m \u001b[32m129.4/129.4 KB\u001b[0m \u001b[31m4.0 MB/s\u001b[0m eta \u001b[36m0:00:00\u001b[0m\n",
            "\u001b[?25hInstalling collected packages: pygal\n",
            "Successfully installed pygal-3.0.0\n",
            "Looking in indexes: https://pypi.org/simple, https://us-python.pkg.dev/colab-wheels/public/simple/\n",
            "Collecting pygal_maps_world\n",
            "  Downloading pygal_maps_world-1.0.2.tar.gz (270 kB)\n",
            "\u001b[2K     \u001b[90m━━━━━━━━━━━━━━━━━━━━━━━━━━━━━━━━━━━━━━━\u001b[0m \u001b[32m270.8/270.8 KB\u001b[0m \u001b[31m5.4 MB/s\u001b[0m eta \u001b[36m0:00:00\u001b[0m\n",
            "\u001b[?25h  Preparing metadata (setup.py) ... \u001b[?25l\u001b[?25hdone\n",
            "Requirement already satisfied: pygal>=1.9.9 in /usr/local/lib/python3.8/dist-packages (from pygal_maps_world) (3.0.0)\n",
            "Building wheels for collected packages: pygal_maps_world\n",
            "  Building wheel for pygal_maps_world (setup.py) ... \u001b[?25l\u001b[?25hdone\n",
            "  Created wheel for pygal_maps_world: filename=pygal_maps_world-1.0.2-py3-none-any.whl size=278560 sha256=8deeb5cf383bc118a4dffc04fe2364c0ac76c3950014118a858553446eda5eb9\n",
            "  Stored in directory: /root/.cache/pip/wheels/da/f5/1b/a241a2b0e32fc89b08d1f42d37e63e7ccc2c820bb14fffd031\n",
            "Successfully built pygal_maps_world\n",
            "Installing collected packages: pygal_maps_world\n",
            "Successfully installed pygal_maps_world-1.0.2\n"
          ]
        }
      ]
    },
    {
      "cell_type": "code",
      "source": [
        "import pygal\n",
        "from pygal_maps_world.maps import World\n",
        "from pygal_maps_world.maps import COUNTRIES"
      ],
      "metadata": {
        "id": "mSeQ-6lxe9lC"
      },
      "execution_count": 106,
      "outputs": []
    },
    {
      "cell_type": "code",
      "source": [
        "worldmap_chart = World()\n",
        "worldmap_chart.title = 'Number of Publications Per Country'\n",
        "\n",
        "\"\"\" Replace bad / incompatible data \"\"\"\n",
        "\n",
        "df['Country'] = df['Country'].replace(\n",
        "    ['Bristol', 'Denamrk', 'Chian', 'Chile ', 'Spain ', 'Israel ', 'Denmark ', 'Russia', 'Korea', 'Palestine', 'Taiwan', 'USA']\n",
        "    , ['United Kingdom', 'Denmark', 'China', 'Chile', 'Spain', 'Israel', 'Denmark', 'Russian Federation', 'Korea, Republic of', 'Palestine, State of', 'Taiwan, Province of China', 'United States'])\n",
        "\n",
        "\"\"\" Replace country name with country code \"\"\"\n",
        "\n",
        "for code, country in COUNTRIES.items():\n",
        "    df['Country'] = df['Country'].replace([country], code)\n",
        "\n",
        "publications_per_country = df.groupby(['Country']).agg({'Article No.':['nunique']}).sort_values(('Article No.', 'nunique'))\n",
        "publications_per_country.rename(columns={('Article No.', 'nunique'): 'Publications'})\n",
        "\n",
        "countries = publications_per_country.to_dict()\n",
        "\n",
        "worldmap_chart.add('Number of Publications', countries[('Article No.', 'nunique')])\n",
        "worldmap_chart.render_to_file('Number-of-Publications-Per-Countries.svg')\n"
      ],
      "metadata": {
        "id": "M8NtNNVsfqdi"
      },
      "execution_count": 108,
      "outputs": []
    },
    {
      "cell_type": "markdown",
      "source": [
        "## 1.4: Top 5 Institutions"
      ],
      "metadata": {
        "id": "D_X5H4LeCQSO"
      }
    },
    {
      "cell_type": "code",
      "source": [
        "top_5_institutions = df.groupby('Author Affiliation').agg({'Article No.': 'nunique'}).sort_values('Article No.', ascending=False).head(6)\n",
        "top_5_institutions[1:]"
      ],
      "metadata": {
        "colab": {
          "base_uri": "https://localhost:8080/",
          "height": 237
        },
        "id": "riWtEFODyKEe",
        "outputId": "c3f5619c-ee1b-4a67-fc45-a5aa75e129ce"
      },
      "execution_count": 109,
      "outputs": [
        {
          "output_type": "execute_result",
          "data": {
            "text/plain": [
              "                                               Article No.\n",
              "Author Affiliation                                        \n",
              "Cyprus University of Technology                          2\n",
              "Malaysia University of Science and Technology            2\n",
              "University of Bristol                                    2\n",
              "University of Cambridge                                  2\n",
              "Fudan University                                         2"
            ],
            "text/html": [
              "\n",
              "  <div id=\"df-b29c41b0-64d9-4619-8f9a-ef559645ebdf\">\n",
              "    <div class=\"colab-df-container\">\n",
              "      <div>\n",
              "<style scoped>\n",
              "    .dataframe tbody tr th:only-of-type {\n",
              "        vertical-align: middle;\n",
              "    }\n",
              "\n",
              "    .dataframe tbody tr th {\n",
              "        vertical-align: top;\n",
              "    }\n",
              "\n",
              "    .dataframe thead th {\n",
              "        text-align: right;\n",
              "    }\n",
              "</style>\n",
              "<table border=\"1\" class=\"dataframe\">\n",
              "  <thead>\n",
              "    <tr style=\"text-align: right;\">\n",
              "      <th></th>\n",
              "      <th>Article No.</th>\n",
              "    </tr>\n",
              "    <tr>\n",
              "      <th>Author Affiliation</th>\n",
              "      <th></th>\n",
              "    </tr>\n",
              "  </thead>\n",
              "  <tbody>\n",
              "    <tr>\n",
              "      <th>Cyprus University of Technology</th>\n",
              "      <td>2</td>\n",
              "    </tr>\n",
              "    <tr>\n",
              "      <th>Malaysia University of Science and Technology</th>\n",
              "      <td>2</td>\n",
              "    </tr>\n",
              "    <tr>\n",
              "      <th>University of Bristol</th>\n",
              "      <td>2</td>\n",
              "    </tr>\n",
              "    <tr>\n",
              "      <th>University of Cambridge</th>\n",
              "      <td>2</td>\n",
              "    </tr>\n",
              "    <tr>\n",
              "      <th>Fudan University</th>\n",
              "      <td>2</td>\n",
              "    </tr>\n",
              "  </tbody>\n",
              "</table>\n",
              "</div>\n",
              "      <button class=\"colab-df-convert\" onclick=\"convertToInteractive('df-b29c41b0-64d9-4619-8f9a-ef559645ebdf')\"\n",
              "              title=\"Convert this dataframe to an interactive table.\"\n",
              "              style=\"display:none;\">\n",
              "        \n",
              "  <svg xmlns=\"http://www.w3.org/2000/svg\" height=\"24px\"viewBox=\"0 0 24 24\"\n",
              "       width=\"24px\">\n",
              "    <path d=\"M0 0h24v24H0V0z\" fill=\"none\"/>\n",
              "    <path d=\"M18.56 5.44l.94 2.06.94-2.06 2.06-.94-2.06-.94-.94-2.06-.94 2.06-2.06.94zm-11 1L8.5 8.5l.94-2.06 2.06-.94-2.06-.94L8.5 2.5l-.94 2.06-2.06.94zm10 10l.94 2.06.94-2.06 2.06-.94-2.06-.94-.94-2.06-.94 2.06-2.06.94z\"/><path d=\"M17.41 7.96l-1.37-1.37c-.4-.4-.92-.59-1.43-.59-.52 0-1.04.2-1.43.59L10.3 9.45l-7.72 7.72c-.78.78-.78 2.05 0 2.83L4 21.41c.39.39.9.59 1.41.59.51 0 1.02-.2 1.41-.59l7.78-7.78 2.81-2.81c.8-.78.8-2.07 0-2.86zM5.41 20L4 18.59l7.72-7.72 1.47 1.35L5.41 20z\"/>\n",
              "  </svg>\n",
              "      </button>\n",
              "      \n",
              "  <style>\n",
              "    .colab-df-container {\n",
              "      display:flex;\n",
              "      flex-wrap:wrap;\n",
              "      gap: 12px;\n",
              "    }\n",
              "\n",
              "    .colab-df-convert {\n",
              "      background-color: #E8F0FE;\n",
              "      border: none;\n",
              "      border-radius: 50%;\n",
              "      cursor: pointer;\n",
              "      display: none;\n",
              "      fill: #1967D2;\n",
              "      height: 32px;\n",
              "      padding: 0 0 0 0;\n",
              "      width: 32px;\n",
              "    }\n",
              "\n",
              "    .colab-df-convert:hover {\n",
              "      background-color: #E2EBFA;\n",
              "      box-shadow: 0px 1px 2px rgba(60, 64, 67, 0.3), 0px 1px 3px 1px rgba(60, 64, 67, 0.15);\n",
              "      fill: #174EA6;\n",
              "    }\n",
              "\n",
              "    [theme=dark] .colab-df-convert {\n",
              "      background-color: #3B4455;\n",
              "      fill: #D2E3FC;\n",
              "    }\n",
              "\n",
              "    [theme=dark] .colab-df-convert:hover {\n",
              "      background-color: #434B5C;\n",
              "      box-shadow: 0px 1px 3px 1px rgba(0, 0, 0, 0.15);\n",
              "      filter: drop-shadow(0px 1px 2px rgba(0, 0, 0, 0.3));\n",
              "      fill: #FFFFFF;\n",
              "    }\n",
              "  </style>\n",
              "\n",
              "      <script>\n",
              "        const buttonEl =\n",
              "          document.querySelector('#df-b29c41b0-64d9-4619-8f9a-ef559645ebdf button.colab-df-convert');\n",
              "        buttonEl.style.display =\n",
              "          google.colab.kernel.accessAllowed ? 'block' : 'none';\n",
              "\n",
              "        async function convertToInteractive(key) {\n",
              "          const element = document.querySelector('#df-b29c41b0-64d9-4619-8f9a-ef559645ebdf');\n",
              "          const dataTable =\n",
              "            await google.colab.kernel.invokeFunction('convertToInteractive',\n",
              "                                                     [key], {});\n",
              "          if (!dataTable) return;\n",
              "\n",
              "          const docLinkHtml = 'Like what you see? Visit the ' +\n",
              "            '<a target=\"_blank\" href=https://colab.research.google.com/notebooks/data_table.ipynb>data table notebook</a>'\n",
              "            + ' to learn more about interactive tables.';\n",
              "          element.innerHTML = '';\n",
              "          dataTable['output_type'] = 'display_data';\n",
              "          await google.colab.output.renderOutput(dataTable, element);\n",
              "          const docLink = document.createElement('div');\n",
              "          docLink.innerHTML = docLinkHtml;\n",
              "          element.appendChild(docLink);\n",
              "        }\n",
              "      </script>\n",
              "    </div>\n",
              "  </div>\n",
              "  "
            ]
          },
          "metadata": {},
          "execution_count": 109
        }
      ]
    },
    {
      "cell_type": "markdown",
      "source": [
        "## 1.5: Top 5 Researchers"
      ],
      "metadata": {
        "id": "tYXBNr_pCdar"
      }
    },
    {
      "cell_type": "code",
      "source": [
        "top_5_researchers = df[['Author Name', 'h-index']].sort_values('h-index', ascending=False).head(5).reset_index(drop=True)\n",
        "top_5_researchers"
      ],
      "metadata": {
        "colab": {
          "base_uri": "https://localhost:8080/",
          "height": 206
        },
        "id": "KXuhmetP1WTT",
        "outputId": "cd3ee566-c903-4362-cef9-6111b03214b2"
      },
      "execution_count": 110,
      "outputs": [
        {
          "output_type": "execute_result",
          "data": {
            "text/plain": [
              "           Author Name  h-index\n",
              "0     Ulrich Trautwein     95.0\n",
              "1     Nicolas Molinari     63.0\n",
              "2     George S. Athwal     59.0\n",
              "3  Vicente A. González     33.0\n",
              "4  Maria Luisa Lorusso     33.0"
            ],
            "text/html": [
              "\n",
              "  <div id=\"df-218dc909-8c5a-48a6-8aa6-0ba69b41fe3b\">\n",
              "    <div class=\"colab-df-container\">\n",
              "      <div>\n",
              "<style scoped>\n",
              "    .dataframe tbody tr th:only-of-type {\n",
              "        vertical-align: middle;\n",
              "    }\n",
              "\n",
              "    .dataframe tbody tr th {\n",
              "        vertical-align: top;\n",
              "    }\n",
              "\n",
              "    .dataframe thead th {\n",
              "        text-align: right;\n",
              "    }\n",
              "</style>\n",
              "<table border=\"1\" class=\"dataframe\">\n",
              "  <thead>\n",
              "    <tr style=\"text-align: right;\">\n",
              "      <th></th>\n",
              "      <th>Author Name</th>\n",
              "      <th>h-index</th>\n",
              "    </tr>\n",
              "  </thead>\n",
              "  <tbody>\n",
              "    <tr>\n",
              "      <th>0</th>\n",
              "      <td>Ulrich Trautwein</td>\n",
              "      <td>95.0</td>\n",
              "    </tr>\n",
              "    <tr>\n",
              "      <th>1</th>\n",
              "      <td>Nicolas Molinari</td>\n",
              "      <td>63.0</td>\n",
              "    </tr>\n",
              "    <tr>\n",
              "      <th>2</th>\n",
              "      <td>George S. Athwal</td>\n",
              "      <td>59.0</td>\n",
              "    </tr>\n",
              "    <tr>\n",
              "      <th>3</th>\n",
              "      <td>Vicente A. González</td>\n",
              "      <td>33.0</td>\n",
              "    </tr>\n",
              "    <tr>\n",
              "      <th>4</th>\n",
              "      <td>Maria Luisa Lorusso</td>\n",
              "      <td>33.0</td>\n",
              "    </tr>\n",
              "  </tbody>\n",
              "</table>\n",
              "</div>\n",
              "      <button class=\"colab-df-convert\" onclick=\"convertToInteractive('df-218dc909-8c5a-48a6-8aa6-0ba69b41fe3b')\"\n",
              "              title=\"Convert this dataframe to an interactive table.\"\n",
              "              style=\"display:none;\">\n",
              "        \n",
              "  <svg xmlns=\"http://www.w3.org/2000/svg\" height=\"24px\"viewBox=\"0 0 24 24\"\n",
              "       width=\"24px\">\n",
              "    <path d=\"M0 0h24v24H0V0z\" fill=\"none\"/>\n",
              "    <path d=\"M18.56 5.44l.94 2.06.94-2.06 2.06-.94-2.06-.94-.94-2.06-.94 2.06-2.06.94zm-11 1L8.5 8.5l.94-2.06 2.06-.94-2.06-.94L8.5 2.5l-.94 2.06-2.06.94zm10 10l.94 2.06.94-2.06 2.06-.94-2.06-.94-.94-2.06-.94 2.06-2.06.94z\"/><path d=\"M17.41 7.96l-1.37-1.37c-.4-.4-.92-.59-1.43-.59-.52 0-1.04.2-1.43.59L10.3 9.45l-7.72 7.72c-.78.78-.78 2.05 0 2.83L4 21.41c.39.39.9.59 1.41.59.51 0 1.02-.2 1.41-.59l7.78-7.78 2.81-2.81c.8-.78.8-2.07 0-2.86zM5.41 20L4 18.59l7.72-7.72 1.47 1.35L5.41 20z\"/>\n",
              "  </svg>\n",
              "      </button>\n",
              "      \n",
              "  <style>\n",
              "    .colab-df-container {\n",
              "      display:flex;\n",
              "      flex-wrap:wrap;\n",
              "      gap: 12px;\n",
              "    }\n",
              "\n",
              "    .colab-df-convert {\n",
              "      background-color: #E8F0FE;\n",
              "      border: none;\n",
              "      border-radius: 50%;\n",
              "      cursor: pointer;\n",
              "      display: none;\n",
              "      fill: #1967D2;\n",
              "      height: 32px;\n",
              "      padding: 0 0 0 0;\n",
              "      width: 32px;\n",
              "    }\n",
              "\n",
              "    .colab-df-convert:hover {\n",
              "      background-color: #E2EBFA;\n",
              "      box-shadow: 0px 1px 2px rgba(60, 64, 67, 0.3), 0px 1px 3px 1px rgba(60, 64, 67, 0.15);\n",
              "      fill: #174EA6;\n",
              "    }\n",
              "\n",
              "    [theme=dark] .colab-df-convert {\n",
              "      background-color: #3B4455;\n",
              "      fill: #D2E3FC;\n",
              "    }\n",
              "\n",
              "    [theme=dark] .colab-df-convert:hover {\n",
              "      background-color: #434B5C;\n",
              "      box-shadow: 0px 1px 3px 1px rgba(0, 0, 0, 0.15);\n",
              "      filter: drop-shadow(0px 1px 2px rgba(0, 0, 0, 0.3));\n",
              "      fill: #FFFFFF;\n",
              "    }\n",
              "  </style>\n",
              "\n",
              "      <script>\n",
              "        const buttonEl =\n",
              "          document.querySelector('#df-218dc909-8c5a-48a6-8aa6-0ba69b41fe3b button.colab-df-convert');\n",
              "        buttonEl.style.display =\n",
              "          google.colab.kernel.accessAllowed ? 'block' : 'none';\n",
              "\n",
              "        async function convertToInteractive(key) {\n",
              "          const element = document.querySelector('#df-218dc909-8c5a-48a6-8aa6-0ba69b41fe3b');\n",
              "          const dataTable =\n",
              "            await google.colab.kernel.invokeFunction('convertToInteractive',\n",
              "                                                     [key], {});\n",
              "          if (!dataTable) return;\n",
              "\n",
              "          const docLinkHtml = 'Like what you see? Visit the ' +\n",
              "            '<a target=\"_blank\" href=https://colab.research.google.com/notebooks/data_table.ipynb>data table notebook</a>'\n",
              "            + ' to learn more about interactive tables.';\n",
              "          element.innerHTML = '';\n",
              "          dataTable['output_type'] = 'display_data';\n",
              "          await google.colab.output.renderOutput(dataTable, element);\n",
              "          const docLink = document.createElement('div');\n",
              "          docLink.innerHTML = docLinkHtml;\n",
              "          element.appendChild(docLink);\n",
              "        }\n",
              "      </script>\n",
              "    </div>\n",
              "  </div>\n",
              "  "
            ]
          },
          "metadata": {},
          "execution_count": 110
        }
      ]
    },
    {
      "cell_type": "markdown",
      "source": [
        "# 2. Regression"
      ],
      "metadata": {
        "id": "_E7ETJE31PIu"
      }
    },
    {
      "cell_type": "code",
      "source": [
        "\"\"\" Import Libraries \"\"\"\n",
        "\n",
        "import numpy as np\n",
        "import pandas as pd\n",
        "import seaborn as sns\n",
        "import statsmodels.api as sm\n",
        "import matplotlib.pyplot as plt"
      ],
      "metadata": {
        "id": "XF372UIL25HL"
      },
      "execution_count": 259,
      "outputs": []
    },
    {
      "cell_type": "code",
      "source": [
        "\"\"\" Acquire Dataset \"\"\"\n",
        "\n",
        "url = 'https://raw.githubusercontent.com/skinnii/multimodal-ml/main/individual-coding-assignment-1/data.csv'\n",
        "df = pd.read_csv(url)"
      ],
      "metadata": {
        "id": "XMDrgGVl1mNg"
      },
      "execution_count": 260,
      "outputs": []
    },
    {
      "cell_type": "code",
      "source": [
        "\"\"\" Check For Missing Values \"\"\"\n",
        "\n",
        "df.isna().sum()\n",
        "df = df.fillna(0)\n",
        "\n",
        "\"\"\" Drop Unnecessary Column \"\"\"\n",
        "\n",
        "df = df.drop(columns = ['Unnamed: 6'])"
      ],
      "metadata": {
        "id": "PLioB_sI3Yh9"
      },
      "execution_count": 261,
      "outputs": []
    },
    {
      "cell_type": "code",
      "source": [
        "\"\"\" Compute Pair-Wise Correlations \"\"\"\n",
        "\n",
        "\"\"\" The SUS scores seem to be positively correlated to the 'Purchase' metric (whether the customer\n",
        "    purchased a ticket or not), and negatively correlated to both the 'Intent_Error' (the number of\n",
        "    times the system failed to classify the user's intention) and 'ASR_Error' (the number of times)\n",
        "    Siri failed to recognize the user's speech) metrics.  \"\"\"\n",
        "    \n",
        "df.corr(method='pearson')['SUS'].sort_values()\n",
        "\n"
      ],
      "metadata": {
        "colab": {
          "base_uri": "https://localhost:8080/"
        },
        "id": "5wnJr4jd6UCo",
        "outputId": "7ea290e3-91ee-4485-e5ce-994dde31b37b"
      },
      "execution_count": 269,
      "outputs": [
        {
          "output_type": "execute_result",
          "data": {
            "text/plain": [
              "Intent_Error   -0.693675\n",
              "ASR_Error      -0.662405\n",
              "Duration       -0.006631\n",
              "Gender          0.111523\n",
              "Purchase        0.661931\n",
              "SUS             1.000000\n",
              "Name: SUS, dtype: float64"
            ]
          },
          "metadata": {},
          "execution_count": 269
        }
      ]
    },
    {
      "cell_type": "code",
      "source": [
        "\"\"\" Set up OLS Regression Model \"\"\"\n",
        "\n",
        "y = df['SUS'] # dependent variable\n",
        "x = df.drop(columns='SUS') # predictor variables"
      ],
      "metadata": {
        "id": "lZ6xGtkY7pYV"
      },
      "execution_count": 265,
      "outputs": []
    },
    {
      "cell_type": "code",
      "source": [
        "x = sm.add_constant(x)\n",
        "model = sm.OLS(y, x).fit()\n"
      ],
      "metadata": {
        "id": "mmvC5B6c70bO"
      },
      "execution_count": 266,
      "outputs": []
    },
    {
      "cell_type": "markdown",
      "source": [
        "## 2.1: Statistical Results"
      ],
      "metadata": {
        "id": "TqAc6BdJC6yC"
      }
    },
    {
      "cell_type": "code",
      "source": [
        "print(model.summary())"
      ],
      "metadata": {
        "colab": {
          "base_uri": "https://localhost:8080/"
        },
        "id": "hUUaprP5C6OY",
        "outputId": "c4dea670-ca19-46b4-d706-4468dc1b0ffb"
      },
      "execution_count": 267,
      "outputs": [
        {
          "output_type": "stream",
          "name": "stdout",
          "text": [
            "                            OLS Regression Results                            \n",
            "==============================================================================\n",
            "Dep. Variable:                    SUS   R-squared:                       0.593\n",
            "Model:                            OLS   Adj. R-squared:                  0.571\n",
            "Method:                 Least Squares   F-statistic:                     27.39\n",
            "Date:                Wed, 15 Feb 2023   Prob (F-statistic):           5.25e-17\n",
            "Time:                        03:08:59   Log-Likelihood:                -362.39\n",
            "No. Observations:                 100   AIC:                             736.8\n",
            "Df Residuals:                      94   BIC:                             752.4\n",
            "Df Model:                           5                                         \n",
            "Covariance Type:            nonrobust                                         \n",
            "================================================================================\n",
            "                   coef    std err          t      P>|t|      [0.025      0.975]\n",
            "--------------------------------------------------------------------------------\n",
            "const           93.0282      5.541     16.788      0.000      82.026     104.031\n",
            "Purchase         1.3412      3.676      0.365      0.716      -5.958       8.641\n",
            "Duration        -0.0002      0.010     -0.025      0.980      -0.020       0.019\n",
            "Gender           0.8367      1.971      0.425      0.672      -3.076       4.749\n",
            "ASR_Error       -1.4254      0.401     -3.553      0.001      -2.222      -0.629\n",
            "Intent_Error    -2.0092      0.439     -4.572      0.000      -2.882      -1.137\n",
            "==============================================================================\n",
            "Omnibus:                        6.969   Durbin-Watson:                   2.023\n",
            "Prob(Omnibus):                  0.031   Jarque-Bera (JB):                8.115\n",
            "Skew:                          -0.378   Prob(JB):                       0.0173\n",
            "Kurtosis:                       4.173   Cond. No.                     1.27e+03\n",
            "==============================================================================\n",
            "\n",
            "Notes:\n",
            "[1] Standard Errors assume that the covariance matrix of the errors is correctly specified.\n",
            "[2] The condition number is large, 1.27e+03. This might indicate that there are\n",
            "strong multicollinearity or other numerical problems.\n"
          ]
        }
      ]
    },
    {
      "cell_type": "markdown",
      "source": [
        "## 2.2: Feature Analysis"
      ],
      "metadata": {
        "id": "VdTmPV-zDBKE"
      }
    },
    {
      "cell_type": "markdown",
      "source": [
        "Generally, a p-value less than 0.05 is required to determine which features are significant. \n",
        "\n",
        "\"In most [cases], results yielding a p-value of .05 are considered on the borderline of statistical significance. If the p-value is under .01, results are considered statistically significant and if it's below .005 they are considered highly statistically significant.\"\n",
        "\n",
        "Thus, looking at the model's summary, only the 'ASR_Error' and the 'Intent_Error' are statistically significant, with p-values of 0.001 and ~0.000, respectively. On the other hand, the 'Purchase', 'Duration', and 'Gender' are statistically insignificant as their p-values exceed the 0.5 threshold."
      ],
      "metadata": {
        "id": "Am9Zfm54EIEZ"
      }
    },
    {
      "cell_type": "markdown",
      "source": [
        "## 2.3: Expected Results"
      ],
      "metadata": {
        "id": "3WO8He8HDR5-"
      }
    },
    {
      "cell_type": "markdown",
      "source": [
        "Duration: I expected the duration of the interaction between Siri and the user to perhaps be of importance. I reasoned that the longer it takes for a user to book (or not) his/her ticket, the more unpleasant the interaction would appear.\n",
        "\n",
        "Purchase: Similarly, I thought the 'Purchase' variable would be more significant--especially since its pair-wise correlation seems to indicate so.\n",
        "\n",
        "Gender: I expected the gender to be completely insignificant. No surprises there.\n",
        "\n",
        "ASR_Error: I did expect the ASR_Error to play a role in prediciting SUS values. It makes sense that the more Siri fails to recognize a user's speech the worse that user's experience is. \n",
        "\n",
        "Intent_Error: Much like with the ASR_Error, I imagined the Intent_Error would be statistically significant and negatively correlated to the SUS scores. Again, it's easy to see how an increase in intention errors would lead to a decrease in satisfaction scores. "
      ],
      "metadata": {
        "id": "YSfM34DRGX6d"
      }
    },
    {
      "cell_type": "markdown",
      "source": [
        "## 2.4: Most Influential Factor"
      ],
      "metadata": {
        "id": "qVbukOtCDbr2"
      }
    },
    {
      "cell_type": "markdown",
      "source": [
        "The most influential factor is the Intent_Error. With a p-value of 0.000, it is essentially 100% certain that a difference in outcomes would not be observed if it had no benefit whatsoever. In other words, it is highly statistically significant. Also, it has the absolute largest pair-wise correlation to the SUS score."
      ],
      "metadata": {
        "id": "x1y7Fbv5JCvE"
      }
    },
    {
      "cell_type": "markdown",
      "source": [
        "## 2.5: Explanation"
      ],
      "metadata": {
        "id": "Dzj33mP_EDQb"
      }
    },
    {
      "cell_type": "markdown",
      "source": [
        "Since the SUS parameter is a measure of customer satisfaction, it is easy to reason why factors such as Intent_Error and ASR_Error are so statisticaly significant. Put simply, the more errors the system makes, the least enjoyable the experience. "
      ],
      "metadata": {
        "id": "JVVIZSNLKqYt"
      }
    },
    {
      "cell_type": "markdown",
      "source": [
        "# 3. Classification"
      ],
      "metadata": {
        "id": "6gkYHGih1Tsr"
      }
    },
    {
      "cell_type": "code",
      "source": [
        "\"\"\" Import Libraries \"\"\"\n",
        "\n",
        "import numpy as np\n",
        "import pandas as pd\n",
        "import seaborn as sns\n",
        "import matplotlib.pyplot as plt"
      ],
      "metadata": {
        "id": "AGeqNEfU20r6"
      },
      "execution_count": 1,
      "outputs": []
    },
    {
      "cell_type": "code",
      "source": [
        "\"\"\" Acquire Dataset \"\"\"\n",
        "\n",
        "url = 'https://raw.githubusercontent.com/skinnii/multimodal-ml/main/individual-coding-assignment-1/data.csv'\n",
        "df = pd.read_csv(url)"
      ],
      "metadata": {
        "id": "bCE_eQOW4z_9"
      },
      "execution_count": 2,
      "outputs": []
    },
    {
      "cell_type": "code",
      "source": [
        "\"\"\" Check For Missing Values \"\"\"\n",
        "\n",
        "df = df.fillna(0)\n",
        "df.isna().sum()"
      ],
      "metadata": {
        "colab": {
          "base_uri": "https://localhost:8080/"
        },
        "id": "JLKbEmMh5GM2",
        "outputId": "fbfdde46-5760-4d33-aba1-6b7e86b02477"
      },
      "execution_count": 3,
      "outputs": [
        {
          "output_type": "execute_result",
          "data": {
            "text/plain": [
              "Purchase        0\n",
              "SUS             0\n",
              "Duration        0\n",
              "Gender          0\n",
              "ASR_Error       0\n",
              "Intent_Error    0\n",
              "Unnamed: 6      0\n",
              "dtype: int64"
            ]
          },
          "metadata": {},
          "execution_count": 3
        }
      ]
    },
    {
      "cell_type": "code",
      "source": [
        "\"\"\" Drop Unnecessary Column \"\"\"\n",
        "\n",
        "df = df.drop(columns = ['Unnamed: 6', 'SUS'])"
      ],
      "metadata": {
        "id": "EkDptY5x5HbP"
      },
      "execution_count": 4,
      "outputs": []
    },
    {
      "cell_type": "code",
      "source": [
        "\"\"\" Analyze Distribution \"\"\"\n",
        "\n",
        "sns.histplot(data=df['Purchase'], palette='bright')\n",
        "plt.show()\n",
        "\n",
        "\"\"\" Distribution appears to be fairly balanced. No need to oversample (SMOTE) \"\"\""
      ],
      "metadata": {
        "colab": {
          "base_uri": "https://localhost:8080/",
          "height": 297
        },
        "id": "WtOb_Igw5Nzs",
        "outputId": "1d95ea1f-d196-4598-eede-e55d05715961"
      },
      "execution_count": 5,
      "outputs": [
        {
          "output_type": "display_data",
          "data": {
            "text/plain": [
              "<Figure size 432x288 with 1 Axes>"
            ],
            "image/png": "[encoded data removed]"
          },
          "metadata": {
            "needs_background": "light"
          }
        },
        {
          "output_type": "execute_result",
          "data": {
            "text/plain": [
              "' Distribution appears to be fairly balanced. No need to oversample (SMOTE) '"
            ],
            "application/vnd.google.colaboratory.intrinsic+json": {
              "type": "string"
            }
          },
          "metadata": {},
          "execution_count": 5
        }
      ]
    },
    {
      "cell_type": "code",
      "source": [
        "\"\"\" Prepare Labels for Model Training \"\"\"\n",
        "\n",
        "y = df['Purchase'].to_numpy()\n",
        "y"
      ],
      "metadata": {
        "colab": {
          "base_uri": "https://localhost:8080/"
        },
        "id": "wJopssJD5kxT",
        "outputId": "fe0df2c3-f817-4a97-f6d3-ede230fd0950"
      },
      "execution_count": 6,
      "outputs": [
        {
          "output_type": "execute_result",
          "data": {
            "text/plain": [
              "array([1, 0, 0, 0, 1, 0, 0, 0, 0, 0, 0, 1, 0, 1, 1, 0, 1, 1, 1, 0, 0, 0,\n",
              "       1, 1, 0, 1, 0, 1, 0, 0, 0, 0, 1, 1, 1, 1, 0, 1, 1, 1, 0, 1, 1, 1,\n",
              "       1, 1, 1, 1, 1, 1, 0, 0, 1, 0, 1, 0, 1, 0, 1, 0, 1, 0, 0, 0, 0, 0,\n",
              "       0, 0, 1, 1, 1, 1, 1, 1, 0, 0, 0, 0, 0, 0, 0, 0, 0, 0, 1, 0, 1, 1,\n",
              "       1, 0, 0, 1, 1, 1, 0, 0, 1, 0, 1, 1])"
            ]
          },
          "metadata": {},
          "execution_count": 6
        }
      ]
    },
    {
      "cell_type": "code",
      "source": [
        "\"\"\" Prepare Data for Model Training \"\"\"\n",
        "\n",
        "X = df.drop('Purchase', axis = 1).to_numpy()\n",
        "X"
      ],
      "metadata": {
        "colab": {
          "base_uri": "https://localhost:8080/"
        },
        "id": "AVlK2Zg45siH",
        "outputId": "1e6fd843-46cd-4fb2-c2ef-b3e80d43d491"
      },
      "execution_count": 7,
      "outputs": [
        {
          "output_type": "execute_result",
          "data": {
            "text/plain": [
              "array([[254,   0,   3,   2],\n",
              "       [247,   0,   6,   9],\n",
              "       [125,   1,   6,   8],\n",
              "       [ 22,   0,  11,   7],\n",
              "       [262,   0,   2,   3],\n",
              "       [113,   1,   8,   9],\n",
              "       [ 91,   1,   6,   3],\n",
              "       [ 46,   0,   6,  11],\n",
              "       [132,   0,   9,   9],\n",
              "       [190,   0,  11,   4],\n",
              "       [146,   0,   9,   7],\n",
              "       [226,   0,   4,   4],\n",
              "       [ 54,   1,   7,   9],\n",
              "       [104,   0,   2,   3],\n",
              "       [292,   0,   7,   3],\n",
              "       [126,   0,   8,   9],\n",
              "       [152,   1,   3,   5],\n",
              "       [221,   0,   3,   4],\n",
              "       [ 51,   0,   9,   9],\n",
              "       [230,   0,   6,   8],\n",
              "       [ 72,   1,   6,   8],\n",
              "       [284,   0,   6,  11],\n",
              "       [168,   0,   2,   4],\n",
              "       [194,   0,   1,   3],\n",
              "       [130,   1,  10,   1],\n",
              "       [227,   0,   9,   3],\n",
              "       [161,   1,   7,   8],\n",
              "       [262,   1,   2,   3],\n",
              "       [257,   1,   9,  11],\n",
              "       [ 57,   1,   8,   3],\n",
              "       [138,   0,   8,   9],\n",
              "       [ 33,   1,   9,   4],\n",
              "       [260,   0,   1,   2],\n",
              "       [178,   1,   3,   4],\n",
              "       [153,   0,   2,   4],\n",
              "       [151,   0,   2,   3],\n",
              "       [ 67,   0,   8,   9],\n",
              "       [284,   1,   2,   2],\n",
              "       [ 96,   1,   3,   1],\n",
              "       [ 31,   0,   1,   3],\n",
              "       [100,   0,  12,   9],\n",
              "       [200,   0,   2,   3],\n",
              "       [ 24,   1,   1,   2],\n",
              "       [169,   0,   1,   3],\n",
              "       [110,   0,   1,   3],\n",
              "       [184,   1,   2,   3],\n",
              "       [234,   1,   2,   5],\n",
              "       [ 90,   1,   5,   3],\n",
              "       [202,   1,   3,   3],\n",
              "       [254,   0,   3,   3],\n",
              "       [259,   0,   9,   6],\n",
              "       [193,   1,  11,   5],\n",
              "       [258,   0,   6,   5],\n",
              "       [117,   1,   6,   7],\n",
              "       [297,   1,   3,   4],\n",
              "       [218,   1,  12,   9],\n",
              "       [119,   0,   0,   8],\n",
              "       [ 54,   1,   8,   6],\n",
              "       [143,   1,   0,   4],\n",
              "       [300,   1,   9,  11],\n",
              "       [ 43,   0,   3,   4],\n",
              "       [ 28,   0,   7,   6],\n",
              "       [357,   1,   9,   4],\n",
              "       [ 21,   0,  13,   7],\n",
              "       [100,   0,   7,   9],\n",
              "       [303,   1,   9,   8],\n",
              "       [ 56,   1,   6,  10],\n",
              "       [205,   0,   5,  12],\n",
              "       [104,   0,   4,   1],\n",
              "       [342,   0,   1,   3],\n",
              "       [ 78,   0,   3,   2],\n",
              "       [ 56,   0,   6,   5],\n",
              "       [297,   1,   2,   1],\n",
              "       [ 56,   0,   5,   4],\n",
              "       [365,   0,   4,   3],\n",
              "       [275,   0,  11,   6],\n",
              "       [198,   1,   9,   9],\n",
              "       [224,   0,  12,  12],\n",
              "       [326,   0,   7,   7],\n",
              "       [ 23,   0,  14,   9],\n",
              "       [ 78,   1,   9,  10],\n",
              "       [108,   0,   6,  11],\n",
              "       [326,   0,  13,   7],\n",
              "       [ 61,   0,  10,   8],\n",
              "       [ 48,   1,   1,   5],\n",
              "       [ 90,   0,  11,   4],\n",
              "       [ 87,   1,   0,   1],\n",
              "       [ 65,   1,   2,   2],\n",
              "       [ 22,   1,   3,   0],\n",
              "       [ 10,   1,   9,   9],\n",
              "       [ 45,   0,   5,   8],\n",
              "       [ 69,   1,   4,   0],\n",
              "       [ 57,   0,   1,   1],\n",
              "       [208,   1,   0,   4],\n",
              "       [197,   0,  11,  10],\n",
              "       [358,   0,  13,   7],\n",
              "       [ 71,   0,   3,   0],\n",
              "       [ 34,   1,   0,   9],\n",
              "       [ 49,   1,   4,   1],\n",
              "       [213,   0,   1,   4]])"
            ]
          },
          "metadata": {},
          "execution_count": 7
        }
      ]
    },
    {
      "cell_type": "code",
      "source": [
        "\"\"\" Data Scaling \"\"\"\n",
        "\n",
        "from sklearn.preprocessing import StandardScaler\n",
        "from sklearn import linear_model\n",
        "from sklearn.model_selection import train_test_split\n",
        "\n",
        "scale = StandardScaler()\n",
        "scaled_X = scale.fit_transform(X)\n",
        "\n",
        "X_train, X_test, y_train, y_test = train_test_split(scaled_X, y, test_size = 0.25)"
      ],
      "metadata": {
        "id": "wFOQTaRE6BaO"
      },
      "execution_count": 50,
      "outputs": []
    },
    {
      "cell_type": "code",
      "source": [
        "\"\"\" Import Classifiers and Metrics from Sklearn \"\"\"\n",
        "\n",
        "from sklearn.linear_model import LogisticRegression\n",
        "from sklearn.svm import SVC\n",
        "from sklearn.naive_bayes import GaussianNB\n",
        "from sklearn.ensemble import RandomForestClassifier\n",
        "from sklearn.metrics import ConfusionMatrixDisplay, confusion_matrix, roc_curve, auc, classification_report\n",
        "\n",
        "import matplotlib.pyplot as plt"
      ],
      "metadata": {
        "id": "Tk8Kqc4k6a5M"
      },
      "execution_count": 51,
      "outputs": []
    },
    {
      "cell_type": "code",
      "source": [
        "\"\"\" Initialize Logistic Regression, SVM, Naive Bayes, and Random Forest Classification Algorithms \"\"\"\n",
        "\n",
        "lc = LogisticRegression()\n",
        "svc = SVC(probability=True)\n",
        "nbc = GaussianNB()\n",
        "rfc = RandomForestClassifier()"
      ],
      "metadata": {
        "id": "BX9GcyPf6rqN"
      },
      "execution_count": 52,
      "outputs": []
    },
    {
      "cell_type": "code",
      "source": [
        "\"\"\" Train the Models with Training Dataset \"\"\"\n",
        "\n",
        "lc.fit(X_train, y_train)\n",
        "svc.fit(X_train, y_train)\n",
        "nbc.fit(X_train, y_train)\n",
        "rfc.fit(X_train, y_train)"
      ],
      "metadata": {
        "id": "6cPKt8Vx7Xwa",
        "colab": {
          "base_uri": "https://localhost:8080/"
        },
        "outputId": "f00e5ee2-ab23-4f8d-d7fe-267c77991279"
      },
      "execution_count": 53,
      "outputs": [
        {
          "output_type": "execute_result",
          "data": {
            "text/plain": [
              "RandomForestClassifier()"
            ]
          },
          "metadata": {},
          "execution_count": 53
        }
      ]
    },
    {
      "cell_type": "code",
      "source": [
        "\"\"\" Test the Models with Testing Dataset \"\"\"\n",
        "\n",
        "y_lc_predicted = lc.predict(X_test)\n",
        "y_lc_pred_proba = lc.predict_proba(X_test)\n",
        "\n",
        "y_svc_predicted = svc.predict(X_test)\n",
        "y_svc_pred_proba = svc.predict_proba(X_test)\n",
        "\n",
        "y_nbc_predicted = nbc.predict(X_test)\n",
        "y_nbc_pred_proba = nbc.predict_proba(X_test)\n",
        "\n",
        "y_rfc_predicted = rfc.predict(X_test)\n",
        "y_rfc_pred_proba = rfc.predict_proba(X_test)"
      ],
      "metadata": {
        "id": "vxi9K0Xg7sIF"
      },
      "execution_count": 54,
      "outputs": []
    },
    {
      "cell_type": "code",
      "source": [
        "\"\"\" Model Evaluation with Confusion Matrix and ROC Curve \"\"\"\n",
        "\n",
        "print(classification_report(y_test, y_lc_predicted))\n",
        "print(classification_report(y_test, y_svc_predicted))\n",
        "print(classification_report(y_test, y_nbc_predicted))\n",
        "print(classification_report(y_test, y_rfc_predicted))\n",
        "\n",
        "models = ['Logistic Regression', 'Support Vector Machine', 'Naive Bayes Classifier', 'Random Forest Classifier']\n",
        "predictions = [y_lc_predicted, y_svc_predicted, y_nbc_predicted, y_rfc_predicted]\n",
        "pred_probabilities = [y_lc_pred_proba, y_svc_pred_proba, y_nbc_pred_proba, y_rfc_pred_proba]\n",
        "\n",
        "plot = 1\n",
        "\n",
        "for model, prediction, pred_proba in zip(models, predictions, pred_probabilities):\n",
        "    disp = ConfusionMatrixDisplay(confusion_matrix(y_test.ravel(), prediction))\n",
        "    disp.plot(\n",
        "        include_values=True,\n",
        "        cmap='gray',\n",
        "        colorbar=False\n",
        "    )\n",
        "    disp.ax_.set_title(f\"{model} Confusion Matrix\")\n",
        "\n",
        "plt.figure(figsize=(30, 15))\n",
        "plt.suptitle(\"ROC Curves\")\n",
        "plot_index = 1\n",
        "\n",
        "for model, prediction, pred_proba in zip(models, predictions, pred_probabilities):\n",
        "    fpr, tpr, thresholds = roc_curve(y_test, pred_proba[:, 1])\n",
        "    auc_score = auc(fpr, tpr)\n",
        "    plt.subplot(3, 2, plot_index)\n",
        "    plt.plot(fpr, tpr, 'r', label='ROC curve')\n",
        "    # pyplot.figure(figsize=(5, 5))\n",
        "    plt.title(f'Roc Curve - {model} - [AUC - {auc_score}]', fontsize=14)\n",
        "    plt.xlabel('FPR', fontsize=12)\n",
        "    plt.ylabel('TPR', fontsize=12)\n",
        "    plt.legend()\n",
        "    plot_index += 1\n",
        "    \n",
        "plt.show()"
      ],
      "metadata": {
        "id": "I5AuW8vD7-fu",
        "colab": {
          "base_uri": "https://localhost:8080/",
          "height": 1000
        },
        "outputId": "ff1f43b1-8c5a-4e8c-99a0-206e09d303ad"
      },
      "execution_count": 55,
      "outputs": [
        {
          "output_type": "stream",
          "name": "stdout",
          "text": [
            "              precision    recall  f1-score   support\n",
            "\n",
            "           0       1.00      1.00      1.00        12\n",
            "           1       1.00      1.00      1.00        13\n",
            "\n",
            "    accuracy                           1.00        25\n",
            "   macro avg       1.00      1.00      1.00        25\n",
            "weighted avg       1.00      1.00      1.00        25\n",
            "\n",
            "              precision    recall  f1-score   support\n",
            "\n",
            "           0       1.00      1.00      1.00        12\n",
            "           1       1.00      1.00      1.00        13\n",
            "\n",
            "    accuracy                           1.00        25\n",
            "   macro avg       1.00      1.00      1.00        25\n",
            "weighted avg       1.00      1.00      1.00        25\n",
            "\n",
            "              precision    recall  f1-score   support\n",
            "\n",
            "           0       0.92      1.00      0.96        12\n",
            "           1       1.00      0.92      0.96        13\n",
            "\n",
            "    accuracy                           0.96        25\n",
            "   macro avg       0.96      0.96      0.96        25\n",
            "weighted avg       0.96      0.96      0.96        25\n",
            "\n",
            "              precision    recall  f1-score   support\n",
            "\n",
            "           0       1.00      1.00      1.00        12\n",
            "           1       1.00      1.00      1.00        13\n",
            "\n",
            "    accuracy                           1.00        25\n",
            "   macro avg       1.00      1.00      1.00        25\n",
            "weighted avg       1.00      1.00      1.00        25\n",
            "\n"
          ]
        },
        {
          "output_type": "display_data",
          "data": {
            "text/plain": [
              "<Figure size 432x288 with 1 Axes>"
            ],
            "image/png": "[encoded data removed]"
          },
          "metadata": {
            "needs_background": "light"
          }
        },
        {
          "output_type": "display_data",
          "data": {
            "text/plain": [
              "<Figure size 432x288 with 1 Axes>"
            ],
            "image/png": "[encoded data removed]"
          },
          "metadata": {
            "needs_background": "light"
          }
        },
        {
          "output_type": "display_data",
          "data": {
            "text/plain": [
              "<Figure size 432x288 with 1 Axes>"
            ],
            "image/png": "[encoded data removed]"
          },
          "metadata": {
            "needs_background": "light"
          }
        },
        {
          "output_type": "display_data",
          "data": {
            "text/plain": [
              "<Figure size 432x288 with 1 Axes>"
            ],
            "image/png": "[encoded data removed]"
          },
          "metadata": {
            "needs_background": "light"
          }
        },
        {
          "output_type": "display_data",
          "data": {
            "text/plain": [
              "<Figure size 2160x1080 with 4 Axes>"
            ],
            "image/png": "[encoded data removed]"
          },
          "metadata": {
            "needs_background": "light"
          }
        }
      ]
    }
  ]
}
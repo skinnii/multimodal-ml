{
 "cells": [
  {
   "cell_type": "markdown",
   "id": "202b8692",
   "metadata": {},
   "source": [
    "# Loading data with pandas"
   ]
  },
  {
   "cell_type": "code",
   "execution_count": 52,
   "id": "61166ecb",
   "metadata": {},
   "outputs": [],
   "source": [
    "import pandas as pd\n",
    "\n",
    "# read .cvs file\n",
    "df = pd.read_csv('purchase_data.csv')\n",
    "# read .xlsx file\n",
    "df = pd.read_csv('purchase_data.xlsx')"
   ]
  },
  {
   "cell_type": "markdown",
   "id": "1d167b72",
   "metadata": {},
   "source": [
    "# Get basic statistics"
   ]
  },
  {
   "cell_type": "code",
   "execution_count": 55,
   "id": "1e51b7fe",
   "metadata": {},
   "outputs": [],
   "source": [
    "# print descriptive statistics of the data, including mean, standard deviation, median, etc.\n",
    "basic_info = df.describe()"
   ]
  },
  {
   "cell_type": "markdown",
   "id": "053723f4",
   "metadata": {},
   "source": [
    "# Print data"
   ]
  },
  {
   "cell_type": "code",
   "execution_count": 102,
   "id": "0ec506a9",
   "metadata": {},
   "outputs": [
    {
     "name": "stdout",
     "output_type": "stream",
     "text": [
      "The data from the first 5 rows are: \n",
      "    Purchase ID       SN  Age Gender  Item ID  \\\n",
      "0            0  Lisim78   20   Male      108   \n",
      "\n",
      "                                   Item Name  Price  \n",
      "0  Extraction, Quickblade Of Trembling Hands   3.53  \n",
      "The data from the last 5 rows are: \n",
      "      Purchase ID         SN  Age Gender  Item ID Item Name  Price\n",
      "779          779  Ennrian78   24   Male       50      Dawn    4.6\n"
     ]
    }
   ],
   "source": [
    "# display the beginning X rows \n",
    "print(\"The data from the first 5 rows are: \\n\", df.head(1))\n",
    "\n",
    "# display the bottom X rows \n",
    "print(\"The data from the last 5 rows are: \\n\", df.tail(1))"
   ]
  },
  {
   "cell_type": "markdown",
   "id": "937a9656",
   "metadata": {},
   "source": [
    "# Read Data"
   ]
  },
  {
   "cell_type": "code",
   "execution_count": 115,
   "id": "8e11c95f",
   "metadata": {},
   "outputs": [],
   "source": [
    "# read headers\n",
    "headers = df.columns"
   ]
  },
  {
   "cell_type": "code",
   "execution_count": 86,
   "id": "f071f88c",
   "metadata": {},
   "outputs": [],
   "source": [
    "# read each column\n",
    "new_df = df['Age']\n",
    "\n",
    "# only read X rows of that column\n",
    "new_df = df['Age'][0:5]\n",
    "\n",
    "# convert column data to a list\n",
    "age_list = df['Age'].values.tolist()\n",
    "\n",
    "# read multiple columns\n",
    "new_df = df[['SN', 'Age', 'Price']]"
   ]
  },
  {
   "cell_type": "code",
   "execution_count": 44,
   "id": "d038a6ca",
   "metadata": {},
   "outputs": [],
   "source": [
    "# read a specific row\n",
    "new_df = df.iloc[1]\n",
    "\n",
    "# read multiple rows\n",
    "new_df = df.iloc[1:3]\n",
    "\n",
    "# read specific location\n",
    "value = df.iloc[1, 4]"
   ]
  },
  {
   "cell_type": "markdown",
   "id": "6aa08dd6",
   "metadata": {},
   "source": [
    "# Locate Specific Data"
   ]
  },
  {
   "cell_type": "code",
   "execution_count": 56,
   "id": "85aa7c17",
   "metadata": {},
   "outputs": [],
   "source": [
    "# locate all customers whose age is seven\n",
    "new_df = df.loc[df['Age'] == 7]"
   ]
  },
  {
   "cell_type": "markdown",
   "id": "f845c919",
   "metadata": {},
   "source": [
    "# Sort Data"
   ]
  },
  {
   "cell_type": "code",
   "execution_count": 71,
   "id": "4a1c0a2a",
   "metadata": {},
   "outputs": [],
   "source": [
    "# sort the data by name (alphabetically)\n",
    "new_df = df.sort_values('SN');\n",
    "\n",
    "# sort the data by age\n",
    "new_df = df.sort_values('Age')\n",
    "\n",
    "# sort the data by age in a descending way\n",
    "new_df = df.sort_values('Age', ascending=False)\n",
    "\n",
    "# sort the data by both name and age, with both in a asceding way\n",
    "new_df = df.sort_values(['SN', 'Age'])\n",
    "\n",
    "# sort the data by both name and age, with name in a ascending way but age going from high to low\n",
    "new_df = df.sort_values(['SN', 'Age'], ascending=[1,0])"
   ]
  },
  {
   "cell_type": "markdown",
   "id": "99e1ab08",
   "metadata": {},
   "source": [
    "# Filter Data"
   ]
  },
  {
   "cell_type": "code",
   "execution_count": 141,
   "id": "3210d858",
   "metadata": {},
   "outputs": [],
   "source": [
    "# locate all customers whose age is seven\n",
    "new_df = df.loc[df['Age'] == 7]\n",
    "\n",
    "# locate with multiple conditions, conditions needed to be seperated by parenthesis\n",
    "new_df = df.loc[(df['Age'] == 7) & (df['Gender'] == 'Female')]\n",
    "\n",
    "# locate with multiple conditions, conditions needed to be seperated by parenthesis\n",
    "new_df = df.loc[(df['Age'] == 7) | (df['Gender'] == 'Female')]\n",
    "\n",
    "# locate with multiple conditions, conditions needed to be seperated by parenthesis\n",
    "new_df = df.loc[(df['Age'] > 7) & (df['Gender'] == 'Female')]\n",
    "\n",
    "# reset index of the newly generated data frame, otherwise the above generated data frames still keep the old index\n",
    "new_df = new_df.reset_index();\n",
    "\n",
    "# use drop parameter to avoid the old index added as a new coloum in the new data frame\n",
    "new_df = new_df.reset_index(drop=True)\n",
    "\n",
    "# locate all customers whose name contains the string of 'rian'\n",
    "new_df = df.loc[df['SN'].str.contains('rian')]\n",
    "\n",
    "# locate all customers whose age is seven\n",
    "new_df = df.loc[df['Age'].isin({7})]\n",
    "\n",
    "# locate all customers whose age is either 7, 20, or 35\n",
    "new_df = df.loc[df['Age'].isin({7, 20, 35})]\n",
    "\n",
    "# locate all customers whose name DOES NOT contain the string of 'rian'\n",
    "new_df = df.loc[~df[\"SN\"].str.contains('rian')]"
   ]
  },
  {
   "cell_type": "markdown",
   "id": "0644d3c4",
   "metadata": {},
   "source": [
    "# Filtering Data with Regex Expression"
   ]
  },
  {
   "cell_type": "code",
   "execution_count": 172,
   "id": "90c09486",
   "metadata": {},
   "outputs": [],
   "source": [
    "import re\n",
    "\n",
    "# locate all customers whose name contains the string of 'rian' OR 'sim'\n",
    "new_df = df.loc[df['SN'].str.contains('rian|sim')] # '|' means OR in regex expression\n",
    "\n",
    "# locate all customers whose name contains the string of 'rian' OR 'sim', include both capital and lowercase cases\n",
    "new_df = df.loc[df['SN'].str.contains('RIAN|SIM', flags = re.I)] # '|' means OR in regex expression\n",
    "\n",
    "# locate all customers whose name contains the string of 'rian' OR 'sim'\n",
    "new_df = df.loc[df['SN'].str.contains('rian|sim')]\n",
    "\n",
    "# locate all customers whose name starts with 'lis'\n",
    "new_df = df.loc[df['SN'].str.contains('^lis[a-z]*', flags = re.I)] # '*' means on or more"
   ]
  },
  {
   "cell_type": "markdown",
   "id": "7a1c7270",
   "metadata": {},
   "source": [
    "# Aggregate Statistics (Groupby)"
   ]
  },
  {
   "cell_type": "code",
   "execution_count": 178,
   "id": "c1d82d2c",
   "metadata": {},
   "outputs": [
    {
     "name": "stderr",
     "output_type": "stream",
     "text": [
      "/var/folders/1y/hb4mfpy5265f26j9ktdrzynm0000gq/T/ipykernel_1378/1569096264.py:2: FutureWarning: The default value of numeric_only in DataFrameGroupBy.mean is deprecated. In a future version, numeric_only will default to False. Either specify numeric_only or select only columns which should be valid for the function.\n",
      "  new_df = df.groupby('Age').mean()\n",
      "/var/folders/1y/hb4mfpy5265f26j9ktdrzynm0000gq/T/ipykernel_1378/1569096264.py:5: FutureWarning: The default value of numeric_only in DataFrameGroupBy.mean is deprecated. In a future version, numeric_only will default to False. Either specify numeric_only or select only columns which should be valid for the function.\n",
      "  new_df = df.groupby('Age').mean()\n",
      "/var/folders/1y/hb4mfpy5265f26j9ktdrzynm0000gq/T/ipykernel_1378/1569096264.py:11: FutureWarning: The default value of numeric_only in DataFrameGroupBy.mean is deprecated. In a future version, numeric_only will default to False. Either specify numeric_only or select only columns which should be valid for the function.\n",
      "  new_df = df.groupby('Age').mean().sort_values('Price')\n"
     ]
    }
   ],
   "source": [
    "# group all customers by age, print the means of different age groups\n",
    "new_df = df.groupby('Age').mean()\n",
    "\n",
    "# group all customers by age, print the sum of different age groups\n",
    "new_df = df.groupby('Age').mean()\n",
    "\n",
    "# group all customers by age, print the count of different age groups\n",
    "new_df = df.groupby('Age').count()\n",
    "\n",
    "# group all customers by age and sort by purchase price\n",
    "new_df = df.groupby('Age').mean().sort_values('Price')"
   ]
  },
  {
   "cell_type": "markdown",
   "id": "a3a6e974",
   "metadata": {},
   "source": [
    "# Working with Large Amounts of Data"
   ]
  },
  {
   "cell_type": "code",
   "execution_count": 181,
   "id": "673c73e1",
   "metadata": {},
   "outputs": [],
   "source": [
    "# Now if the .csv file is 20 GB, we want to read files with the size that your computer can handle\n",
    "for df in pd.read_csv('purchase_data.csv', chunksize=5): # use chunksize parameter to only read 5 rows each time\n",
    "    continue # use the batch of the data to validate or test your model"
   ]
  }
 ],
 "metadata": {
  "kernelspec": {
   "display_name": "Python 3 (ipykernel)",
   "language": "python",
   "name": "python3"
  },
  "language_info": {
   "codemirror_mode": {
    "name": "ipython",
    "version": 3
   },
   "file_extension": ".py",
   "mimetype": "text/x-python",
   "name": "python",
   "nbconvert_exporter": "python",
   "pygments_lexer": "ipython3",
   "version": "3.9.15"
  }
 },
 "nbformat": 4,
 "nbformat_minor": 5
}
